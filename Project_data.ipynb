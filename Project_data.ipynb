{
 "cells": [
  {
   "cell_type": "code",
   "execution_count": 273,
   "metadata": {},
   "outputs": [],
   "source": [
    "import pandas as pd\n",
    "import numpy as np\n",
    "import matplotlib.pyplot as plt\n",
    "import seaborn as sns\n",
    "import sklearn as sk\n",
    "from sklearn import tree\n",
    "from sklearn.tree import DecisionTreeRegressor\n",
    "from sklearn.metrics import mean_squared_error as mse\n",
    "from sklearn.model_selection import train_test_split"
   ]
  },
  {
   "cell_type": "markdown",
   "metadata": {},
   "source": [
    "#### The Dataset\n",
    "The dataset contains information on shooting incidents in the USA. We chose the columns presented below, because they were the relavent ones for us to analyse. \n",
    "\n",
    "[link to the data source](https://www.kaggle.com/carlosparadis/stanford-msa?select=mass_shooting_events_stanford_msa_release_06142016.csv)"
   ]
  },
  {
   "cell_type": "code",
   "execution_count": 274,
   "metadata": {},
   "outputs": [
    {
     "data": {
      "text/html": [
       "<div>\n",
       "<style scoped>\n",
       "    .dataframe tbody tr th:only-of-type {\n",
       "        vertical-align: middle;\n",
       "    }\n",
       "\n",
       "    .dataframe tbody tr th {\n",
       "        vertical-align: top;\n",
       "    }\n",
       "\n",
       "    .dataframe thead th {\n",
       "        text-align: right;\n",
       "    }\n",
       "</style>\n",
       "<table border=\"1\" class=\"dataframe\">\n",
       "  <thead>\n",
       "    <tr style=\"text-align: right;\">\n",
       "      <th></th>\n",
       "      <th>Average Shooter Age</th>\n",
       "      <th>CaseID</th>\n",
       "      <th>Shooter Sex</th>\n",
       "      <th>Day of Week</th>\n",
       "      <th>Shooter Race</th>\n",
       "      <th>Longitude</th>\n",
       "      <th>Latitude</th>\n",
       "      <th>Number of Victim Fatalities</th>\n",
       "      <th>Number of Victims Injured</th>\n",
       "      <th>Total Number of Victims</th>\n",
       "      <th>State</th>\n",
       "      <th>City</th>\n",
       "      <th>Place Type</th>\n",
       "      <th>Date</th>\n",
       "      <th>Fate of Shooter at the scene</th>\n",
       "    </tr>\n",
       "  </thead>\n",
       "  <tbody>\n",
       "    <tr>\n",
       "      <th>0</th>\n",
       "      <td>25</td>\n",
       "      <td>1.0</td>\n",
       "      <td>Male</td>\n",
       "      <td>Monday</td>\n",
       "      <td>White American or European American</td>\n",
       "      <td>-97.844159</td>\n",
       "      <td>30.198887</td>\n",
       "      <td>16.0</td>\n",
       "      <td>32.0</td>\n",
       "      <td>48.0</td>\n",
       "      <td>Texas</td>\n",
       "      <td>Austin</td>\n",
       "      <td>College/University/Adult education</td>\n",
       "      <td>8/1/1966</td>\n",
       "      <td>Deceased</td>\n",
       "    </tr>\n",
       "    <tr>\n",
       "      <th>1</th>\n",
       "      <td>18</td>\n",
       "      <td>2.0</td>\n",
       "      <td>Male</td>\n",
       "      <td>Saturday</td>\n",
       "      <td>White American or European American</td>\n",
       "      <td>-111.816320</td>\n",
       "      <td>33.422687</td>\n",
       "      <td>5.0</td>\n",
       "      <td>1.0</td>\n",
       "      <td>6.0</td>\n",
       "      <td>Arizona</td>\n",
       "      <td>Mesa</td>\n",
       "      <td>College/University/Adult education</td>\n",
       "      <td>11/12/1966</td>\n",
       "      <td>Arrested</td>\n",
       "    </tr>\n",
       "    <tr>\n",
       "      <th>2</th>\n",
       "      <td>23</td>\n",
       "      <td>3.0</td>\n",
       "      <td>Male</td>\n",
       "      <td>Sunday</td>\n",
       "      <td>Black American or African American</td>\n",
       "      <td>-89.931474</td>\n",
       "      <td>30.068724</td>\n",
       "      <td>9.0</td>\n",
       "      <td>13.0</td>\n",
       "      <td>22.0</td>\n",
       "      <td>Louisiana</td>\n",
       "      <td>New Orleans</td>\n",
       "      <td>Government facility</td>\n",
       "      <td>12/31/72</td>\n",
       "      <td>Deceased</td>\n",
       "    </tr>\n",
       "    <tr>\n",
       "      <th>3</th>\n",
       "      <td>14</td>\n",
       "      <td>4.0</td>\n",
       "      <td>Male</td>\n",
       "      <td>Thursday</td>\n",
       "      <td>Unknown</td>\n",
       "      <td>-87.688181</td>\n",
       "      <td>41.839280</td>\n",
       "      <td>1.0</td>\n",
       "      <td>3.0</td>\n",
       "      <td>4.0</td>\n",
       "      <td>Illinois</td>\n",
       "      <td>Chicago</td>\n",
       "      <td>Primary school</td>\n",
       "      <td>1/17/74</td>\n",
       "      <td>Arrested</td>\n",
       "    </tr>\n",
       "    <tr>\n",
       "      <th>4</th>\n",
       "      <td>17</td>\n",
       "      <td>5.0</td>\n",
       "      <td>Male</td>\n",
       "      <td>Monday</td>\n",
       "      <td>White American or European American</td>\n",
       "      <td>-78.432139</td>\n",
       "      <td>42.081854</td>\n",
       "      <td>3.0</td>\n",
       "      <td>7.0</td>\n",
       "      <td>10.0</td>\n",
       "      <td>New York</td>\n",
       "      <td>Olean</td>\n",
       "      <td>Secondary school</td>\n",
       "      <td>12/30/74</td>\n",
       "      <td>Arrested</td>\n",
       "    </tr>\n",
       "  </tbody>\n",
       "</table>\n",
       "</div>"
      ],
      "text/plain": [
       "  Average Shooter Age  CaseID Shooter Sex Day of Week  \\\n",
       "0                  25     1.0        Male      Monday   \n",
       "1                  18     2.0        Male    Saturday   \n",
       "2                  23     3.0        Male      Sunday   \n",
       "3                  14     4.0        Male    Thursday   \n",
       "4                  17     5.0        Male      Monday   \n",
       "\n",
       "                          Shooter Race   Longitude   Latitude  \\\n",
       "0  White American or European American  -97.844159  30.198887   \n",
       "1  White American or European American -111.816320  33.422687   \n",
       "2   Black American or African American  -89.931474  30.068724   \n",
       "3                              Unknown  -87.688181  41.839280   \n",
       "4  White American or European American  -78.432139  42.081854   \n",
       "\n",
       "   Number of Victim Fatalities  Number of Victims Injured  \\\n",
       "0                         16.0                       32.0   \n",
       "1                          5.0                        1.0   \n",
       "2                          9.0                       13.0   \n",
       "3                          1.0                        3.0   \n",
       "4                          3.0                        7.0   \n",
       "\n",
       "   Total Number of Victims      State         City  \\\n",
       "0                     48.0      Texas       Austin   \n",
       "1                      6.0    Arizona         Mesa   \n",
       "2                     22.0  Louisiana  New Orleans   \n",
       "3                      4.0   Illinois      Chicago   \n",
       "4                     10.0   New York        Olean   \n",
       "\n",
       "                           Place Type        Date Fate of Shooter at the scene  \n",
       "0  College/University/Adult education    8/1/1966                     Deceased  \n",
       "1  College/University/Adult education  11/12/1966                     Arrested  \n",
       "2                 Government facility    12/31/72                     Deceased  \n",
       "3                      Primary school     1/17/74                     Arrested  \n",
       "4                    Secondary school    12/30/74                     Arrested  "
      ]
     },
     "execution_count": 274,
     "metadata": {},
     "output_type": "execute_result"
    }
   ],
   "source": [
    "data=pd.read_csv(\"mass_shooting_events_stanford_msa_release_06142016.csv\")\n",
    "data=data[[\"Average Shooter Age\",'CaseID',\"Shooter Sex\",'Day of Week', \"Shooter Race\",'Longitude','Latitude', \"Number of Victim Fatalities\",\"Number of Victims Injured\",\"Total Number of Victims\", \"State\",\"City\",\"Place Type\",\"Date\",\"Fate of Shooter at the scene\"]]\n",
    "data.head()"
   ]
  },
  {
   "cell_type": "markdown",
   "metadata": {},
   "source": [
    "### Treat missing values\n",
    "\n",
    "Check if there are missing values:"
   ]
  },
  {
   "cell_type": "code",
   "execution_count": 275,
   "metadata": {},
   "outputs": [
    {
     "data": {
      "text/plain": [
       "Fate of Shooter at the scene    40\n",
       "Date                            40\n",
       "Place Type                      40\n",
       "City                            40\n",
       "State                           40\n",
       "Total Number of Victims         40\n",
       "Number of Victims Injured       40\n",
       "Number of Victim Fatalities     40\n",
       "Latitude                        40\n",
       "Longitude                       40\n",
       "Shooter Race                    40\n",
       "Day of Week                     40\n",
       "Shooter Sex                     40\n",
       "CaseID                          40\n",
       "Average Shooter Age             40\n",
       "dtype: int64"
      ]
     },
     "execution_count": 275,
     "metadata": {},
     "output_type": "execute_result"
    }
   ],
   "source": [
    "data.isnull().sum().sort_values(ascending=False)"
   ]
  },
  {
   "cell_type": "markdown",
   "metadata": {},
   "source": [
    "We can see there are a lot of 'na's' in each column. We used dropna to treat them so we can analyse our data with no problems. When we started working with the data we noticed a problematic row for the analysing so we droped it. "
   ]
  },
  {
   "cell_type": "code",
   "execution_count": 276,
   "metadata": {},
   "outputs": [],
   "source": [
    "data=data.drop(data.index[175]).reset_index()\n",
    "data=data.dropna().reset_index()"
   ]
  },
  {
   "cell_type": "markdown",
   "metadata": {},
   "source": [
    "We also had a lot of 'Unknown' values. Let's check how many we have and treat them accordingly:"
   ]
  },
  {
   "cell_type": "code",
   "execution_count": 277,
   "metadata": {},
   "outputs": [
    {
     "data": {
      "text/plain": [
       "level_0                          0\n",
       "index                            0\n",
       "Average Shooter Age             30\n",
       "CaseID                           0\n",
       "Shooter Sex                     22\n",
       "Day of Week                      0\n",
       "Shooter Race                    44\n",
       "Longitude                        0\n",
       "Latitude                         0\n",
       "Number of Victim Fatalities      0\n",
       "Number of Victims Injured        0\n",
       "Total Number of Victims          0\n",
       "State                            0\n",
       "City                             0\n",
       "Place Type                       0\n",
       "Date                             0\n",
       "Fate of Shooter at the scene     0\n",
       "dtype: int64"
      ]
     },
     "execution_count": 277,
     "metadata": {},
     "output_type": "execute_result"
    }
   ],
   "source": [
    "data.isin([\"Unknown\"]).sum()"
   ]
  },
  {
   "cell_type": "markdown",
   "metadata": {},
   "source": [
    "The most important column to have all it's values is the 'Average Shooter Age' column, so we droped all rows where the 'Average Shooter Age' column has an 'Unknown' value. "
   ]
  },
  {
   "cell_type": "code",
   "execution_count": 278,
   "metadata": {},
   "outputs": [],
   "source": [
    "data = data.drop(data[data['Average Shooter Age'].isin(['Unknown'])].index)"
   ]
  },
  {
   "cell_type": "markdown",
   "metadata": {},
   "source": [
    "Now let's see what's the sitation."
   ]
  },
  {
   "cell_type": "code",
   "execution_count": 279,
   "metadata": {},
   "outputs": [
    {
     "data": {
      "text/plain": [
       "level_0                          0\n",
       "index                            0\n",
       "Average Shooter Age              0\n",
       "CaseID                           0\n",
       "Shooter Sex                      0\n",
       "Day of Week                      0\n",
       "Shooter Race                    17\n",
       "Longitude                        0\n",
       "Latitude                         0\n",
       "Number of Victim Fatalities      0\n",
       "Number of Victims Injured        0\n",
       "Total Number of Victims          0\n",
       "State                            0\n",
       "City                             0\n",
       "Place Type                       0\n",
       "Date                             0\n",
       "Fate of Shooter at the scene     0\n",
       "dtype: int64"
      ]
     },
     "execution_count": 279,
     "metadata": {},
     "output_type": "execute_result"
    }
   ],
   "source": [
    "data.isin([\"Unknown\"]).sum()"
   ]
  },
  {
   "cell_type": "markdown",
   "metadata": {},
   "source": [
    "We can proceed with that."
   ]
  },
  {
   "cell_type": "markdown",
   "metadata": {},
   "source": [
    "### Fixing data types\n",
    "Check if any of the data types need to be fixed:"
   ]
  },
  {
   "cell_type": "code",
   "execution_count": 280,
   "metadata": {},
   "outputs": [
    {
     "data": {
      "text/plain": [
       "level_0                           int64\n",
       "index                             int64\n",
       "Average Shooter Age              object\n",
       "CaseID                          float64\n",
       "Shooter Sex                      object\n",
       "Day of Week                      object\n",
       "Shooter Race                     object\n",
       "Longitude                       float64\n",
       "Latitude                        float64\n",
       "Number of Victim Fatalities     float64\n",
       "Number of Victims Injured       float64\n",
       "Total Number of Victims         float64\n",
       "State                            object\n",
       "City                             object\n",
       "Place Type                       object\n",
       "Date                             object\n",
       "Fate of Shooter at the scene     object\n",
       "dtype: object"
      ]
     },
     "execution_count": 280,
     "metadata": {},
     "output_type": "execute_result"
    }
   ],
   "source": [
    "data.dtypes"
   ]
  },
  {
   "cell_type": "markdown",
   "metadata": {},
   "source": [
    "We noticed that the column  'date'  and  'Average Shooter Age'  are objects, so we wanted to change them to the relavent type: \n",
    "The column 'date' to datetime and the cloumn 'Average Shooter Age' to float. \n",
    "\n",
    "We'll need the day and month for later so we'll create new columns named date and month that specify which day and month incident case is. "
   ]
  },
  {
   "cell_type": "code",
   "execution_count": 281,
   "metadata": {},
   "outputs": [],
   "source": [
    "data[\"Date\"]=pd.to_datetime(data.Date) \n",
    "data['Average Shooter Age'] = data['Average Shooter Age'].astype(float)\n",
    "data[\"year\"]=pd.DatetimeIndex(data.Date).year\n",
    "data[\"month\"]=pd.DatetimeIndex(data.Date).month\n",
    "data[\"day\"]=pd.DatetimeIndex(data.Date).day"
   ]
  },
  {
   "cell_type": "markdown",
   "metadata": {},
   "source": [
    "When we were trying to understand the data, in some of the columns there were a few differant names for the same thing, which split the cases to a few differant ones. \n",
    "For example, in the column 'place type', there were a few names for incidents that happened in a Restaurant/Cafe, that basicly had the same name, so we merged them to be one. We used groupby just to see which differant names repeat themselves. \n",
    "That happened in a few differant columns. So we did that for each relavent column. "
   ]
  },
  {
   "cell_type": "code",
   "execution_count": 282,
   "metadata": {},
   "outputs": [
    {
     "data": {
      "text/plain": [
       "Shooter Race\n",
       "Asian American/Some other race                           1\n",
       "Black American or African American/Unknown               1\n",
       "White American or European American/Some other Race      1\n",
       "Native American or Alaska Native                         3\n",
       "Two or more races                                        3\n",
       "Asian American                                          16\n",
       "Unknown                                                 17\n",
       "Some other race                                         23\n",
       "Black American or African American                      74\n",
       "White American or European American                    137\n",
       "Name: Shooter Race, dtype: int64"
      ]
     },
     "execution_count": 282,
     "metadata": {},
     "output_type": "execute_result"
    }
   ],
   "source": [
    "data.groupby('Shooter Race')['Shooter Race'].count().sort_values()"
   ]
  },
  {
   "cell_type": "code",
   "execution_count": 283,
   "metadata": {},
   "outputs": [],
   "source": [
    "data[\"Shooter Race\"].replace({'Black American or African American/Unknown': 'Black American or African American'}, inplace=True)\n",
    "data[\"Shooter Race\"].replace({'Asian American/Some other race': 'Asian American'}, inplace=True)\n",
    "data[\"Shooter Race\"].replace({'White American or European American/Some other Race':'White American or European American'}, inplace=True)\n",
    "data[\"Shooter Race\"].replace({'Two or more races':'Some other race'}, inplace=True)\n",
    "data[\"Shooter Race\"].replace({'Unknown':'Some other race'}, inplace=True)"
   ]
  },
  {
   "cell_type": "code",
   "execution_count": 284,
   "metadata": {},
   "outputs": [
    {
     "data": {
      "text/plain": [
       "Place Type\n",
       "Secondary School                                                        1\n",
       "Retail/ Wholesale/Services facility\\rand Primary school                 1\n",
       "Entertainment Venue                                                     1\n",
       "Retail/ Wholesale/Services facility                                     1\n",
       "Restaurant/cafe                                                         1\n",
       "Restaurant/Cafe                                                         1\n",
       "Residential home/Neighborhood,\\rRetail/ Wholesale/Services facility     1\n",
       "Residential home/Neighborhood \\rand Street/Highway                      1\n",
       "Retail/Wholesale/Services facility\\r/Residential home/Neighborhood      2\n",
       "Residential Home/Neighborhood                                           2\n",
       "Public transportation                                                   4\n",
       "Park/Wildness                                                           4\n",
       "Medical/Care                                                            4\n",
       "Military facility                                                       5\n",
       "Place of worship                                                        7\n",
       "Restaurant/Cafe?                                                        8\n",
       "Entertainment venue                                                    12\n",
       "Retail/Wholesale/Services facility                                     15\n",
       "Primary school                                                         16\n",
       "Street/Highway                                                         16\n",
       "Government facility                                                    20\n",
       "Company/Factory/Office                                                 20\n",
       "Secondary school                                                       21\n",
       "College/University/Adult education                                     27\n",
       "Residential home/Neighborhood                                          85\n",
       "Name: Place Type, dtype: int64"
      ]
     },
     "execution_count": 284,
     "metadata": {},
     "output_type": "execute_result"
    }
   ],
   "source": [
    "data.groupby('Place Type')['Place Type'].count().sort_values()"
   ]
  },
  {
   "cell_type": "code",
   "execution_count": 285,
   "metadata": {},
   "outputs": [],
   "source": [
    "data[\"Place Type\"].replace({'Restaurant/Cafe': 'Restaurant/cafe'}, inplace=True)\n",
    "data[\"Place Type\"].replace({'Restaurant/Cafe?': 'Restaurant/cafe'}, inplace=True)\n",
    "data[\"Place Type\"].replace({'Residential Home/Neighborhood':'Residential home/Neighborhood'}, inplace=True)\n",
    "data[\"Place Type\"].replace({'Residential home/Neighborhood \\rand Street/Highway':'Residential home/Neighborhood'}, inplace=True)\n",
    "data[\"Place Type\"].replace({'Residential home/Neighborhood,\\rRetail/ Wholesale/Services facility':'Residential home/Neighborhood'}, inplace=True)\n",
    "data[\"Place Type\"].replace({'Retail/ Wholesale/Services facility':'Retail/Wholesale/Services facility'}, inplace=True)\n",
    "data[\"Place Type\"].replace({'Secondary School':'Secondary school'}, inplace=True)"
   ]
  },
  {
   "cell_type": "code",
   "execution_count": 286,
   "metadata": {},
   "outputs": [
    {
     "data": {
      "text/plain": [
       "Fate of Shooter at the scene\n",
       "Arrested/Escaped         1\n",
       "Escaped\\r(Arrested)      1\n",
       "Killed                   1\n",
       "Escaped                 21\n",
       "Arrested               118\n",
       "Deceased               134\n",
       "Name: Fate of Shooter at the scene, dtype: int64"
      ]
     },
     "execution_count": 286,
     "metadata": {},
     "output_type": "execute_result"
    }
   ],
   "source": [
    "data.groupby('Fate of Shooter at the scene')['Fate of Shooter at the scene'].count().sort_values()"
   ]
  },
  {
   "cell_type": "code",
   "execution_count": 287,
   "metadata": {},
   "outputs": [],
   "source": [
    "data[\"Fate of Shooter at the scene\"].replace({'Escaped\\r(Arrested)':'Arrested/Escaped'}, inplace=True)\n",
    "data[\"Fate of Shooter at the scene\"].replace({'Killed':'Deceased'}, inplace=True)"
   ]
  },
  {
   "cell_type": "markdown",
   "metadata": {},
   "source": [
    "## 2. Understanding the data\n",
    "\n",
    "The first thing we want to check is how many cases each gender/race had. "
   ]
  },
  {
   "cell_type": "code",
   "execution_count": 365,
   "metadata": {},
   "outputs": [
    {
     "data": {
      "text/plain": [
       "<matplotlib.axes._subplots.AxesSubplot at 0x286ae2c9a00>"
      ]
     },
     "execution_count": 365,
     "metadata": {},
     "output_type": "execute_result"
    },
    {
     "data": {
      "image/png": "[encoded data removed]",
      "text/plain": [
       "<Figure size 720x576 with 1 Axes>"
      ]
     },
     "metadata": {},
     "output_type": "display_data"
    }
   ],
   "source": [
    "plt.figure(1, figsize=(10,8))\n",
    "data['Shooter Sex'].value_counts().plot.pie(autopct='%1.1f%%')"
   ]
  },
  {
   "cell_type": "markdown",
   "metadata": {},
   "source": [
    "As we can see, there is a huge difference between the shooting incidents done by men then by women. \n",
    "\n"
   ]
  },
  {
   "cell_type": "markdown",
   "metadata": {},
   "source": [
    "Let's present a nicer way to observe the data according to race. We'll adjust the lable rotation angle so the labels don't ovelap."
   ]
  },
  {
   "cell_type": "code",
   "execution_count": 247,
   "metadata": {},
   "outputs": [
    {
     "data": {
      "image/png": "[encoded data removed]",
      "text/plain": [
       "<Figure size 864x576 with 1 Axes>"
      ]
     },
     "metadata": {
      "needs_background": "light"
     },
     "output_type": "display_data"
    }
   ],
   "source": [
    "data[\"Shooter Race\"].value_counts()\n",
    "plt.figure(1, figsize=(12,8))\n",
    "sns.countplot(x=\"Shooter Race\",data=data) \n",
    "ax = sns.countplot('Shooter Race', data=data)\n",
    "ax.set_xticklabels(ax.get_xticklabels(), rotation=45, ha=\"right\")\n",
    "plt.tight_layout()\n",
    "plt.show()"
   ]
  },
  {
   "cell_type": "markdown",
   "metadata": {},
   "source": [
    "באיזה סביבות קורים מקרי ירי?"
   ]
  },
  {
   "cell_type": "code",
   "execution_count": 294,
   "metadata": {},
   "outputs": [
    {
     "data": {
      "text/html": [
       "<div>\n",
       "<style scoped>\n",
       "    .dataframe tbody tr th:only-of-type {\n",
       "        vertical-align: middle;\n",
       "    }\n",
       "\n",
       "    .dataframe tbody tr th {\n",
       "        vertical-align: top;\n",
       "    }\n",
       "\n",
       "    .dataframe thead th {\n",
       "        text-align: right;\n",
       "    }\n",
       "</style>\n",
       "<table border=\"1\" class=\"dataframe\">\n",
       "  <thead>\n",
       "    <tr style=\"text-align: right;\">\n",
       "      <th></th>\n",
       "      <th>CaseID</th>\n",
       "    </tr>\n",
       "    <tr>\n",
       "      <th>Place Type</th>\n",
       "      <th></th>\n",
       "    </tr>\n",
       "  </thead>\n",
       "  <tbody>\n",
       "    <tr>\n",
       "      <th>Residential home/Neighborhood</th>\n",
       "      <td>89</td>\n",
       "    </tr>\n",
       "    <tr>\n",
       "      <th>College/University/Adult education</th>\n",
       "      <td>27</td>\n",
       "    </tr>\n",
       "    <tr>\n",
       "      <th>Secondary school</th>\n",
       "      <td>22</td>\n",
       "    </tr>\n",
       "    <tr>\n",
       "      <th>Company/Factory/Office</th>\n",
       "      <td>20</td>\n",
       "    </tr>\n",
       "    <tr>\n",
       "      <th>Government facility</th>\n",
       "      <td>20</td>\n",
       "    </tr>\n",
       "    <tr>\n",
       "      <th>Retail/Wholesale/Services facility</th>\n",
       "      <td>16</td>\n",
       "    </tr>\n",
       "    <tr>\n",
       "      <th>Primary school</th>\n",
       "      <td>16</td>\n",
       "    </tr>\n",
       "    <tr>\n",
       "      <th>Street/Highway</th>\n",
       "      <td>16</td>\n",
       "    </tr>\n",
       "    <tr>\n",
       "      <th>Entertainment venue</th>\n",
       "      <td>12</td>\n",
       "    </tr>\n",
       "    <tr>\n",
       "      <th>Restaurant/cafe</th>\n",
       "      <td>10</td>\n",
       "    </tr>\n",
       "    <tr>\n",
       "      <th>Place of worship</th>\n",
       "      <td>7</td>\n",
       "    </tr>\n",
       "    <tr>\n",
       "      <th>Military facility</th>\n",
       "      <td>5</td>\n",
       "    </tr>\n",
       "    <tr>\n",
       "      <th>Park/Wildness</th>\n",
       "      <td>4</td>\n",
       "    </tr>\n",
       "    <tr>\n",
       "      <th>Public transportation</th>\n",
       "      <td>4</td>\n",
       "    </tr>\n",
       "    <tr>\n",
       "      <th>Medical/Care</th>\n",
       "      <td>4</td>\n",
       "    </tr>\n",
       "    <tr>\n",
       "      <th>Retail/Wholesale/Services facility\\r/Residential home/Neighborhood</th>\n",
       "      <td>2</td>\n",
       "    </tr>\n",
       "    <tr>\n",
       "      <th>Retail/ Wholesale/Services facility\\rand Primary school</th>\n",
       "      <td>1</td>\n",
       "    </tr>\n",
       "    <tr>\n",
       "      <th>Entertainment Venue</th>\n",
       "      <td>1</td>\n",
       "    </tr>\n",
       "  </tbody>\n",
       "</table>\n",
       "</div>"
      ],
      "text/plain": [
       "                                                    CaseID\n",
       "Place Type                                                \n",
       "Residential home/Neighborhood                           89\n",
       "College/University/Adult education                      27\n",
       "Secondary school                                        22\n",
       "Company/Factory/Office                                  20\n",
       "Government facility                                     20\n",
       "Retail/Wholesale/Services facility                      16\n",
       "Primary school                                          16\n",
       "Street/Highway                                          16\n",
       "Entertainment venue                                     12\n",
       "Restaurant/cafe                                         10\n",
       "Place of worship                                         7\n",
       "Military facility                                        5\n",
       "Park/Wildness                                            4\n",
       "Public transportation                                    4\n",
       "Medical/Care                                             4\n",
       "Retail/Wholesale/Services facility\\r/Residentia...       2\n",
       "Retail/ Wholesale/Services facility\\rand Primar...       1\n",
       "Entertainment Venue                                      1"
      ]
     },
     "execution_count": 294,
     "metadata": {},
     "output_type": "execute_result"
    }
   ],
   "source": [
    "data.groupby(\"Place Type\")[[\"CaseID\"]].count().sort_values('CaseID',ascending=False)"
   ]
  },
  {
   "cell_type": "markdown",
   "metadata": {},
   "source": [
    "Notice that the first category (Residential home/Neighborhood) has 3 times as many cases as the second highest category (College/University/Adult education)! That was very surprising to us, so we wanted to check that further.\n",
    "\n",
    "So is there a specific reason for this phenomenon? \n",
    "\n",
    "We started to check different directions, until we found an interesting one. "
   ]
  },
  {
   "cell_type": "code",
   "execution_count": 295,
   "metadata": {},
   "outputs": [
    {
     "data": {
      "text/html": [
       "<div>\n",
       "<style scoped>\n",
       "    .dataframe tbody tr th:only-of-type {\n",
       "        vertical-align: middle;\n",
       "    }\n",
       "\n",
       "    .dataframe tbody tr th {\n",
       "        vertical-align: top;\n",
       "    }\n",
       "\n",
       "    .dataframe thead th {\n",
       "        text-align: right;\n",
       "    }\n",
       "</style>\n",
       "<table border=\"1\" class=\"dataframe\">\n",
       "  <thead>\n",
       "    <tr style=\"text-align: right;\">\n",
       "      <th></th>\n",
       "      <th>CaseID</th>\n",
       "    </tr>\n",
       "    <tr>\n",
       "      <th>month</th>\n",
       "      <th></th>\n",
       "    </tr>\n",
       "  </thead>\n",
       "  <tbody>\n",
       "    <tr>\n",
       "      <th>2</th>\n",
       "      <td>46</td>\n",
       "    </tr>\n",
       "    <tr>\n",
       "      <th>3</th>\n",
       "      <td>34</td>\n",
       "    </tr>\n",
       "    <tr>\n",
       "      <th>12</th>\n",
       "      <td>28</td>\n",
       "    </tr>\n",
       "    <tr>\n",
       "      <th>4</th>\n",
       "      <td>24</td>\n",
       "    </tr>\n",
       "    <tr>\n",
       "      <th>1</th>\n",
       "      <td>23</td>\n",
       "    </tr>\n",
       "    <tr>\n",
       "      <th>8</th>\n",
       "      <td>22</td>\n",
       "    </tr>\n",
       "    <tr>\n",
       "      <th>10</th>\n",
       "      <td>21</td>\n",
       "    </tr>\n",
       "    <tr>\n",
       "      <th>11</th>\n",
       "      <td>19</td>\n",
       "    </tr>\n",
       "    <tr>\n",
       "      <th>5</th>\n",
       "      <td>17</td>\n",
       "    </tr>\n",
       "    <tr>\n",
       "      <th>9</th>\n",
       "      <td>15</td>\n",
       "    </tr>\n",
       "    <tr>\n",
       "      <th>7</th>\n",
       "      <td>14</td>\n",
       "    </tr>\n",
       "    <tr>\n",
       "      <th>6</th>\n",
       "      <td>13</td>\n",
       "    </tr>\n",
       "  </tbody>\n",
       "</table>\n",
       "</div>"
      ],
      "text/plain": [
       "       CaseID\n",
       "month        \n",
       "2          46\n",
       "3          34\n",
       "12         28\n",
       "4          24\n",
       "1          23\n",
       "8          22\n",
       "10         21\n",
       "11         19\n",
       "5          17\n",
       "9          15\n",
       "7          14\n",
       "6          13"
      ]
     },
     "execution_count": 295,
     "metadata": {},
     "output_type": "execute_result"
    }
   ],
   "source": [
    "data.groupby('month')[['CaseID']].count().sort_values('CaseID',ascending = False)"
   ]
  },
  {
   "cell_type": "markdown",
   "metadata": {},
   "source": [
    "##### Observation:\n",
    "As we know, in the US the winters' months are from the end of December until the end of April. Obviously those are the coldest months of the year... \n",
    "\n",
    "Considering that most shooting incidents occur at home, it's logical that the most incidents will occur when the weather prevents people from leaving home. \n",
    "\n",
    "So we decided to dig deeper and check if there are more cases in the winter and inside. "
   ]
  },
  {
   "cell_type": "code",
   "execution_count": 299,
   "metadata": {},
   "outputs": [
    {
     "data": {
      "text/html": [
       "<div>\n",
       "<style scoped>\n",
       "    .dataframe tbody tr th:only-of-type {\n",
       "        vertical-align: middle;\n",
       "    }\n",
       "\n",
       "    .dataframe tbody tr th {\n",
       "        vertical-align: top;\n",
       "    }\n",
       "\n",
       "    .dataframe thead th {\n",
       "        text-align: right;\n",
       "    }\n",
       "</style>\n",
       "<table border=\"1\" class=\"dataframe\">\n",
       "  <thead>\n",
       "    <tr style=\"text-align: right;\">\n",
       "      <th></th>\n",
       "      <th>Place Type</th>\n",
       "    </tr>\n",
       "    <tr>\n",
       "      <th>month</th>\n",
       "      <th></th>\n",
       "    </tr>\n",
       "  </thead>\n",
       "  <tbody>\n",
       "    <tr>\n",
       "      <th>3</th>\n",
       "      <td>19</td>\n",
       "    </tr>\n",
       "    <tr>\n",
       "      <th>2</th>\n",
       "      <td>17</td>\n",
       "    </tr>\n",
       "    <tr>\n",
       "      <th>1</th>\n",
       "      <td>12</td>\n",
       "    </tr>\n",
       "    <tr>\n",
       "      <th>4</th>\n",
       "      <td>9</td>\n",
       "    </tr>\n",
       "    <tr>\n",
       "      <th>5</th>\n",
       "      <td>5</td>\n",
       "    </tr>\n",
       "    <tr>\n",
       "      <th>8</th>\n",
       "      <td>5</td>\n",
       "    </tr>\n",
       "    <tr>\n",
       "      <th>12</th>\n",
       "      <td>5</td>\n",
       "    </tr>\n",
       "    <tr>\n",
       "      <th>6</th>\n",
       "      <td>4</td>\n",
       "    </tr>\n",
       "    <tr>\n",
       "      <th>7</th>\n",
       "      <td>4</td>\n",
       "    </tr>\n",
       "    <tr>\n",
       "      <th>11</th>\n",
       "      <td>4</td>\n",
       "    </tr>\n",
       "    <tr>\n",
       "      <th>10</th>\n",
       "      <td>3</td>\n",
       "    </tr>\n",
       "    <tr>\n",
       "      <th>9</th>\n",
       "      <td>2</td>\n",
       "    </tr>\n",
       "  </tbody>\n",
       "</table>\n",
       "</div>"
      ],
      "text/plain": [
       "       Place Type\n",
       "month            \n",
       "3              19\n",
       "2              17\n",
       "1              12\n",
       "4               9\n",
       "5               5\n",
       "8               5\n",
       "12              5\n",
       "6               4\n",
       "7               4\n",
       "11              4\n",
       "10              3\n",
       "9               2"
      ]
     },
     "execution_count": 299,
     "metadata": {},
     "output_type": "execute_result"
    }
   ],
   "source": [
    "Res_home_or_NH_rows = data.loc[data[\"Place Type\"]== \"Residential home/Neighborhood\"]\n",
    "Res_home_or_NH_rows.groupby(\"month\")[[\"Place Type\"]].count().sort_values(\"Place Type\", ascending = False)\n",
    "#Incidents in \"Residential home/Neighborhood\" by month"
   ]
  },
  {
   "cell_type": "markdown",
   "metadata": {},
   "source": [
    "## First insight:\n",
    "> - More incidents in Residential home/Neighborhood happen in the winter months. "
   ]
  },
  {
   "cell_type": "markdown",
   "metadata": {},
   "source": [
    "Were all the shooters' fate the same?\n",
    "\n",
    "Let's check the fate of the shooters in the top 4 shooting places. "
   ]
  },
  {
   "cell_type": "code",
   "execution_count": 356,
   "metadata": {},
   "outputs": [
    {
     "data": {
      "text/plain": [
       "[Text(0, 0, 'College/University/Adult education'),\n",
       " Text(0, 0, 'Government facility'),\n",
       " Text(0, 0, 'Primary school'),\n",
       " Text(0, 0, 'Secondary school'),\n",
       " Text(0, 0, 'Company/Factory/Office'),\n",
       " Text(0, 0, 'Residential home/Neighborhood')]"
      ]
     },
     "execution_count": 356,
     "metadata": {},
     "output_type": "execute_result"
    },
    {
     "data": {
      "image/png": "[encoded data removed]",
      "text/plain": [
       "<Figure size 432x288 with 1 Axes>"
      ]
     },
     "metadata": {
      "needs_background": "light"
     },
     "output_type": "display_data"
    }
   ],
   "source": [
    "top_4_places=data[(data[\"Place Type\"]==\"Residential home/Neighborhood\")| (data['Place Type']=='Secondary school') | (data['Place Type']=='College/University/Adult education') | (data['Place Type']=='Company/Factory/Office') | (data['Place Type']=='Government facility') |(data['Place Type']=='Primary school')]\n",
    "illusration = sns.countplot(x=top_4_places['Place Type'],data=top_4_places,hue='Fate of Shooter at the scene',saturation=0.9)\n",
    "illusration.set_xticklabels(illusration.get_xticklabels(), rotation=45, ha=\"right\")"
   ]
  },
  {
   "cell_type": "markdown",
   "metadata": {},
   "source": [
    "##### Observation:\n",
    "As we can see, in educational places, there were more arrested shooters relatively to the other places than Deceased. \n",
    "\n",
    "So we decided to check if those places have something in common and found out that the age plays an important role. "
   ]
  },
  {
   "cell_type": "code",
   "execution_count": 354,
   "metadata": {},
   "outputs": [
    {
     "data": {
      "image/png": "[encoded data removed]",
      "text/plain": [
       "<Figure size 504x504 with 1 Axes>"
      ]
     },
     "metadata": {
      "needs_background": "light"
     },
     "output_type": "display_data"
    }
   ],
   "source": [
    "plt.figure(1, figsize=(7,7))\n",
    "\n",
    "ax = sns.boxplot(x='Place Type', y='Average Shooter Age', data=top_4_places, showmeans=True)\n",
    "ax.set_xticklabels(ax.get_xticklabels(), rotation=40, ha=\"right\")\n",
    "plt.tight_layout()\n",
    "plt.show()"
   ]
  },
  {
   "cell_type": "code",
   "execution_count": 355,
   "metadata": {},
   "outputs": [
    {
     "name": "stdout",
     "output_type": "stream",
     "text": [
      "according to the illustration the mean of the Average Shooter Age in each place is: \n",
      "Secondary school: 17.318181818181817\n",
      "Primary school: 20.5625\n",
      "College/University/Adult education: 29.5\n",
      "Residential home/Neighborhood: 33.08651685393258\n",
      "Company/Factory/Office: 41.4\n",
      "Government facility: 41.95\n"
     ]
    }
   ],
   "source": [
    "print('according to the illustration the mean of the Average Shooter Age in each place is: ')\n",
    "print('Secondary school:',top_4_places[top_4_places['Place Type']=='Secondary school']['Average Shooter Age'].mean())\n",
    "print('Primary school:',top_4_places[top_4_places['Place Type']=='Primary school']['Average Shooter Age'].mean())\n",
    "print('College/University/Adult education:',top_4_places[top_4_places['Place Type']=='College/University/Adult education']['Average Shooter Age'].mean())\n",
    "print('Residential home/Neighborhood:',top_4_places[top_4_places['Place Type']=='Residential home/Neighborhood']['Average Shooter Age'].mean())\n",
    "print('Company/Factory/Office:',top_4_places[top_4_places['Place Type']=='Company/Factory/Office']['Average Shooter Age'].mean())\n",
    "print('Government facility:',top_4_places[top_4_places['Place Type']=='Government facility']['Average Shooter Age'].mean())"
   ]
  },
  {
   "cell_type": "markdown",
   "metadata": {},
   "source": [
    "## Second insight:\n",
    "> - The fate of the shooter may be influenced by his age. Apparently the police forces have more empathy towards the younger.   "
   ]
  },
  {
   "cell_type": "markdown",
   "metadata": {},
   "source": [
    "#### We already proved that the shooter's fate is probably influenced by his age. Is the fate also influenced by other factors, like the\n",
    "#### number of victims?"
   ]
  },
  {
   "cell_type": "code",
   "execution_count": null,
   "metadata": {},
   "outputs": [],
   "source": []
  },
  {
   "cell_type": "code",
   "execution_count": null,
   "metadata": {},
   "outputs": [],
   "source": []
  },
  {
   "cell_type": "code",
   "execution_count": 316,
   "metadata": {},
   "outputs": [
    {
     "data": {
      "text/plain": [
       "0      (5, 70]\n",
       "1      (5, 70]\n",
       "2      (5, 70]\n",
       "3       (0, 5]\n",
       "4      (5, 70]\n",
       "        ...   \n",
       "296     (0, 5]\n",
       "300     (0, 5]\n",
       "301     (0, 5]\n",
       "302     (0, 5]\n",
       "303    (5, 70]\n",
       "Name: tot_num_of_vic, Length: 276, dtype: category\n",
       "Categories (2, interval[int64]): [(0, 5] < (5, 70]]"
      ]
     },
     "execution_count": 316,
     "metadata": {},
     "output_type": "execute_result"
    }
   ],
   "source": [
    "data['tot_num_of_vic'] = pd.cut(data['Total Number of Victims'], [0, 5, 70])\n",
    "data['tot_num_of_vic']"
   ]
  },
  {
   "cell_type": "code",
   "execution_count": 362,
   "metadata": {},
   "outputs": [
    {
     "data": {
      "text/plain": [
       "<matplotlib.axes._subplots.AxesSubplot at 0x286a78c9f70>"
      ]
     },
     "execution_count": 362,
     "metadata": {},
     "output_type": "execute_result"
    },
    {
     "data": {
      "image/png": "[encoded data removed]",
      "text/plain": [
       "<Figure size 360x360 with 2 Axes>"
      ]
     },
     "metadata": {
      "needs_background": "light"
     },
     "output_type": "display_data"
    }
   ],
   "source": [
    "data[\"fate_cat\"]=data[\"Fate of Shooter at the scene\"].astype(\"category\").cat.codes\n",
    "data['aaaa']=data[\"tot_num_of_vic\"].astype(\"category\").cat.codes\n",
    "features=[\"aaaa\",\"fate_cat\"]\n",
    "correlation=data[features].corr().round(2)\n",
    "plt.figure(1, figsize=(5,5))\n",
    "sns.heatmap(data=correlation, cmap=\"Blues\", annot=True)"
   ]
  },
  {
   "cell_type": "markdown",
   "metadata": {},
   "source": [
    "## Third insight:\n",
    "> - The fate of the shooter is not influenced by the amount of victims in the shooting. "
   ]
  },
  {
   "cell_type": "code",
   "execution_count": 314,
   "metadata": {},
   "outputs": [],
   "source": [
    "#data.pivot_table('Total Number of Victims','Fate of Shooter at the scene',margins=True).unstack().sort_values()"
   ]
  },
  {
   "cell_type": "code",
   "execution_count": 269,
   "metadata": {},
   "outputs": [
    {
     "data": {
      "text/plain": [
       "<matplotlib.axes._subplots.AxesSubplot at 0x286a9be5220>"
      ]
     },
     "execution_count": 269,
     "metadata": {},
     "output_type": "execute_result"
    },
    {
     "data": {
      "image/png": "[encoded data removed]",
      "text/plain": [
       "<Figure size 1080x720 with 2 Axes>"
      ]
     },
     "metadata": {
      "needs_background": "light"
     },
     "output_type": "display_data"
    }
   ],
   "source": [
    "data[\"col_place\"]=data[\"Place Type\"].astype(\"category\").cat.codes\n",
    "data[\"state_cat\"]=data[\"State\"].astype(\"category\").cat.codes\n",
    "data[\"race_cat\"]=data[\"Shooter Race\"].astype(\"category\").cat.codes\n",
    "data[\"Sex_cat\"]=data[\"Shooter Sex\"].astype(\"category\").cat.codes\n",
    "\n",
    "\n",
    "features=[\"month\",\"day\",\"year\",\"state_cat\",\"race_cat\",\"Sex_cat\",\"fate_cat\",\"Total Number of Victims\",\"Average Shooter Age\"]\n",
    "correlation=data[[x for x in features if \"_cat\" not in x]].corr().round(2)\n",
    "plt.figure(1, figsize=(15,10))\n",
    "sns.heatmap(data=correlation, cmap=\"Greens\", annot=True)"
   ]
  },
  {
   "cell_type": "code",
   "execution_count": 267,
   "metadata": {},
   "outputs": [
    {
     "data": {
      "text/plain": [
       "[Text(0, 0, 'White American or European American'),\n",
       " Text(0, 0, 'Black American or African American'),\n",
       " Text(0, 0, 'Some other race'),\n",
       " Text(0, 0, 'Asian American'),\n",
       " Text(0, 0, 'Native American or Alaska Native')]"
      ]
     },
     "execution_count": 267,
     "metadata": {},
     "output_type": "execute_result"
    },
    {
     "data": {
      "image/png": "[encoded data removed]",
      "text/plain": [
       "<Figure size 432x288 with 1 Axes>"
      ]
     },
     "metadata": {
      "needs_background": "light"
     },
     "output_type": "display_data"
    }
   ],
   "source": [
    "#t=sns.countplot(x=data['Shooter Race'],data=data,hue='Fate of Shooter at the scene',saturation=0.9)\n",
    "#t.set_xticklabels(t.get_xticklabels(), rotation=45, ha=\"right\")"
   ]
  },
  {
   "cell_type": "code",
   "execution_count": 187,
   "metadata": {},
   "outputs": [
    {
     "data": {
      "text/html": [
       "<div>\n",
       "<style scoped>\n",
       "    .dataframe tbody tr th:only-of-type {\n",
       "        vertical-align: middle;\n",
       "    }\n",
       "\n",
       "    .dataframe tbody tr th {\n",
       "        vertical-align: top;\n",
       "    }\n",
       "\n",
       "    .dataframe thead th {\n",
       "        text-align: right;\n",
       "    }\n",
       "</style>\n",
       "<table border=\"1\" class=\"dataframe\">\n",
       "  <thead>\n",
       "    <tr style=\"text-align: right;\">\n",
       "      <th></th>\n",
       "      <th>aaaa</th>\n",
       "      <th>fate_cat</th>\n",
       "    </tr>\n",
       "  </thead>\n",
       "  <tbody>\n",
       "    <tr>\n",
       "      <th>aaaa</th>\n",
       "      <td>1.000000</td>\n",
       "      <td>-0.033415</td>\n",
       "    </tr>\n",
       "    <tr>\n",
       "      <th>fate_cat</th>\n",
       "      <td>-0.033415</td>\n",
       "      <td>1.000000</td>\n",
       "    </tr>\n",
       "  </tbody>\n",
       "</table>\n",
       "</div>"
      ],
      "text/plain": [
       "              aaaa  fate_cat\n",
       "aaaa      1.000000 -0.033415\n",
       "fate_cat -0.033415  1.000000"
      ]
     },
     "execution_count": 187,
     "metadata": {},
     "output_type": "execute_result"
    }
   ],
   "source": []
  },
  {
   "cell_type": "code",
   "execution_count": 271,
   "metadata": {},
   "outputs": [
    {
     "data": {
      "text/plain": [
       "<matplotlib.axes._subplots.AxesSubplot at 0x286a9cba9d0>"
      ]
     },
     "execution_count": 271,
     "metadata": {},
     "output_type": "execute_result"
    },
    {
     "data": {
      "image/png": "[encoded data removed]",
      "text/plain": [
       "<Figure size 432x288 with 1 Axes>"
      ]
     },
     "metadata": {
      "needs_background": "light"
     },
     "output_type": "display_data"
    }
   ],
   "source": [
    "data_copy = data.copy()\n",
    "data_copy['Date'] = pd.to_datetime(data_copy.Date)\n",
    "data_copy['year'] = pd.DatetimeIndex(data_copy.Date).year\n",
    "\n",
    "data_copy.plot(x='Longitude',y='Latitude',kind='scatter')"
   ]
  },
  {
   "cell_type": "code",
   "execution_count": null,
   "metadata": {},
   "outputs": [],
   "source": []
  }
 ],
 "metadata": {
  "kernelspec": {
   "display_name": "Python 3",
   "language": "python",
   "name": "python3"
  },
  "language_info": {
   "codemirror_mode": {
    "name": "ipython",
    "version": 3
   },
   "file_extension": ".py",
   "mimetype": "text/x-python",
   "name": "python",
   "nbconvert_exporter": "python",
   "pygments_lexer": "ipython3",
   "version": "3.8.3"
  }
 },
 "nbformat": 4,
 "nbformat_minor": 4
}
